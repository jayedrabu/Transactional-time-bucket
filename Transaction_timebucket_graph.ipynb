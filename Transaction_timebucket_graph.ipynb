{
 "cells": [
  {
   "cell_type": "code",
   "execution_count": 2,
   "metadata": {},
   "outputs": [
    {
     "name": "stdout",
     "output_type": "stream",
     "text": [
      "[12345 54321 43215]\n",
      "  Transaction time\n",
      "0         09:45:00\n",
      "1         09:55:00\n",
      "2         09:30:00\n",
      "3         13:00:00\n",
      "4         14:30:00\n",
      "5         17:15:00\n",
      "6         17:35:00\n",
      "7         17:25:00\n",
      "8         17:47:00\n",
      "9         17:55:00\n"
     ]
    },
    {
     "data": {
      "image/png": "[encoded data removed]",
      "text/plain": [
       "<Figure size 432x288 with 1 Axes>"
      ]
     },
     "metadata": {
      "needs_background": "light"
     },
     "output_type": "display_data"
    },
    {
     "name": "stdout",
     "output_type": "stream",
     "text": [
      "   Transaction time\n",
      "10         19:05:00\n",
      "11         19:19:00\n",
      "12         19:27:00\n",
      "13         19:47:00\n",
      "14         10:30:00\n",
      "15         10:49:00\n",
      "16         11:05:00\n",
      "17         15:17:00\n",
      "18         14:47:00\n",
      "19         15:27:00\n"
     ]
    },
    {
     "data": {
      "image/png": "[encoded data removed]",
      "text/plain": [
       "<Figure size 432x288 with 1 Axes>"
      ]
     },
     "metadata": {
      "needs_background": "light"
     },
     "output_type": "display_data"
    },
    {
     "name": "stdout",
     "output_type": "stream",
     "text": [
      "   Transaction time\n",
      "20         18:07:00\n",
      "21         18:15:00\n",
      "22         18:27:00\n",
      "23         18:47:00\n",
      "24         19:05:00\n",
      "25         19:12:00\n",
      "26         19:50:00\n",
      "27         19:59:00\n",
      "28         09:30:00\n",
      "29         09:55:00\n",
      "30         12:30:00\n",
      "31         13:00:00\n"
     ]
    },
    {
     "data": {
      "image/png": "[encoded data removed]",
      "text/plain": [
       "<Figure size 432x288 with 1 Axes>"
      ]
     },
     "metadata": {
      "needs_background": "light"
     },
     "output_type": "display_data"
    },
    {
     "name": "stdout",
     "output_type": "stream",
     "text": [
      "the time buckets for each account are:\n",
      "[{'Account': 12345, 'Frequent': [17], 'Moderate': [9], 'Least': [13, 14], 'NT Timing': [0, 1, 2, 3, 4, 5, 6, 7, 8, 10, 11, 12, 15, 16, 18, 19, 20, 21, 22, 23]}, {'Account': 54321, 'Frequent': [19], 'Moderate': [10, 15], 'Least': [11, 14], 'NT Timing': [0, 1, 2, 3, 4, 5, 6, 7, 8, 9, 12, 13, 16, 17, 18, 20, 21, 22, 23]}, {'Account': 43215, 'Frequent': [18, 19], 'Moderate': [9], 'Least': [12, 13], 'NT Timing': [0, 1, 2, 3, 4, 5, 6, 7, 8, 10, 11, 14, 15, 16, 17, 20, 21, 22, 23]}]\n"
     ]
    }
   ],
   "source": [
    "import pandas as pd\n",
    "import numpy as np\n",
    "from datetime import datetime\n",
    "import matplotlib.pyplot as plt\n",
    "import csv\n",
    "transact=pd.read_csv(\"H:/analysis/transaction_details.csv\", delimiter=';')\n",
    "transact=transact[['Account No.', 'Transaction time']]\n",
    "Account= transact['Account No.'].unique()\n",
    "\n",
    "def t_bucket(df,a):\n",
    "    timeframe=pd.Series(np.zeros((24,), dtype=int))\n",
    "    y=[]\n",
    "    for i in df['Transaction time']:\n",
    "        i = datetime.strptime(i, '%H:%M:%S')\n",
    "        i=int(i.strftime('%H'))\n",
    "        y.append(i)\n",
    "        timeframe.iloc[i]+=1\n",
    "    maximum=int(timeframe.max())\n",
    "    frequent=list(timeframe[timeframe == maximum].index)\n",
    "    minimum = int(timeframe[timeframe > 0].min())\n",
    "    least = list(timeframe[timeframe == minimum].index)\n",
    "    NT_timing = list(timeframe[timeframe == 0].index)\n",
    "    mod=[i for i in timeframe if (i != maximum and i != minimum and i !=0)]\n",
    "    moderate=list(timeframe[timeframe.isin(mod)].index)\n",
    "    x=[]\n",
    "    for i in y:\n",
    "        if i in frequent:\n",
    "            x.append(0)\n",
    "        elif i in least:\n",
    "            x.append(2)\n",
    "        elif i in NT_timing:\n",
    "            x.append(3)\n",
    "        else:\n",
    "            x.append(1)\n",
    "    plt.scatter(x=y, y=y,c= x, cmap='rainbow')\n",
    "    plt.xlabel('Time--->')\n",
    "    plt.ylabel('Time--->')\n",
    "    plt.title('Time Bucket Graph')\n",
    "    plt.show()\n",
    "    ######################################################\n",
    "    temp={'Account': a, 'Frequent': frequent, 'Moderate': moderate, 'Least': least, 'NT Timing': NT_timing}\n",
    "    \n",
    "    #output will be saved in a csv file.\n",
    "    dict=str(a)+ \".csv\"\n",
    "    w = csv.writer(open(dict, \"w\"))\n",
    "    for key, val in temp.items():\n",
    "        w.writerow([key, val])\n",
    "    ###################################\n",
    "    return frequent, moderate, least, NT_timing,temp\n",
    "\n",
    "\n",
    "\n",
    "\n",
    "timebucket=[]\n",
    "print(Account)\n",
    "for x in Account:\n",
    "    temp=pd.DataFrame(transact['Transaction time'].where(transact['Account No.']==x).dropna())\n",
    "    print(temp)\n",
    "    frequent, moderate, least, NT_Timing, dict =t_bucket(temp,x)\n",
    "    timebucket.append(dict)\n",
    "\n",
    "\n",
    "\n",
    "print(\"the time buckets for each account are:\")\n",
    "print(timebucket)\n",
    "\n"
   ]
  },
  {
   "cell_type": "code",
   "execution_count": null,
   "metadata": {},
   "outputs": [],
   "source": []
  }
 ],
 "metadata": {
  "kernelspec": {
   "display_name": "Python 3",
   "language": "python",
   "name": "python3"
  },
  "language_info": {
   "codemirror_mode": {
    "name": "ipython",
    "version": 3
   },
   "file_extension": ".py",
   "mimetype": "text/x-python",
   "name": "python",
   "nbconvert_exporter": "python",
   "pygments_lexer": "ipython3",
   "version": "3.7.3"
  }
 },
 "nbformat": 4,
 "nbformat_minor": 4
}
